{
 "cells": [
  {
   "cell_type": "markdown",
   "id": "bebec84b",
   "metadata": {},
   "source": [
    "## Aula dia 23/05\n",
    "Inicio - Instalar 2 Extensoes vs code\n",
    "\n",
    "* data wrangler : é uma ferramenta de visualização e limpeza de dados centrada em código, integrada ao VS Code e aos Jupyter Notebooks do VS Code. - nao tem essa opçao no Pycharme.\n",
    "oferece uma interface de usuário avançada para visualizar e analisar seus dados, exibir estatísticas e visualizações de colunas detalhadas e gerar código Pandas automaticamente enquanto você limpa e transforma os dados.\n",
    "\n",
    "* data preview"
   ]
  },
  {
   "cell_type": "markdown",
   "id": "d8b811e2",
   "metadata": {},
   "source": [
    "> 2. repositorio - github -- https://github.com/alexmachadoribeiro\n",
    "\n",
    "app_python/notebooks/datasets/cancelamentos.csv\n",
    "\n",
    "instalar a biblioteca pandas no Code\n",
    "> pip install pandas\n",
    "\n"
   ]
  },
  {
   "cell_type": "markdown",
   "id": "b104c2ff",
   "metadata": {},
   "source": []
  }
 ],
 "metadata": {
  "language_info": {
   "name": "python"
  }
 },
 "nbformat": 4,
 "nbformat_minor": 5
}
