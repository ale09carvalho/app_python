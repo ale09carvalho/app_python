{
 "cells": [
  {
   "cell_type": "markdown",
   "id": "5816127d",
   "metadata": {},
   "source": []
  },
  {
   "cell_type": "markdown",
   "id": "a2cfbfb3",
   "metadata": {},
   "source": [
    "# Titulo do meu notebook\n",
    "## Subtitulo do meu notebook\n",
    "### Titulo nível do meu notebook\n",
    "--- (HR)\n",
    "\n"
   ]
  },
  {
   "cell_type": "markdown",
   "id": "e52e1d74",
   "metadata": {},
   "source": [
    "Este é um texto do meu notebook\n",
    "\n",
    "*Este texto esta em itálico*\n",
    "\n",
    "**Este texto esta em negrito**\n",
    "\n",
    "***Este Texto esta em itálico e negrito ao mesmo tempo.***\n",
    "\n"
   ]
  },
  {
   "cell_type": "markdown",
   "id": "8972cd64",
   "metadata": {},
   "source": [
    "- Marcador 1\n",
    "- Marcador 2\n",
    "- Marcador 3\n",
    "\n",
    "1. Numeração 1\n",
    "2. Numeração 2\n",
    "3. Numeração 3\n",
    "4. Numeraçao 4"
   ]
  },
  {
   "cell_type": "markdown",
   "id": "6667af25",
   "metadata": {},
   "source": [
    "para instalar o pandas, execute o comando 'pip instal pandas' terminal.\n",
    "\n",
    "Este é um código PHP:\n",
    "\n",
    "~~~php\n",
    "<?php\n",
    "    echo \"Alô, mundo!\";\n",
    "?>\n",
    "~~~\n",
    "\n",
    "Este é um codigo em SQL:\n",
    "\n",
    "~~~sql\n",
    "\n",
    "CREATE DATABASE IF NOT EXISTS meu_banco;\n",
    "\n",
    "~~~\n",
    "\n",
    "Este é um código em Java:\n",
    "\n",
    "~~~java\n",
    "class Main {\n",
    "    public static void main(String[]args){\n",
    "        System.out.println(\"Alo, mundo!\");\n",
    "    }\n",
    "}\n",
    "~~~\n",
    "\n",
    "Entrada de dados em Java:\n",
    "~~~java\n",
    "import java.util.Scanner;\n",
    "\n",
    "class Main{\n",
    "    public static void main(String[]args){\n",
    "        Scanner sc = new Scanner(System,in);\n",
    "\n",
    "        String nome;\n",
    "\n",
    "        System.out.println(\"Informe seu nome:\")\n",
    "        nome = sc.nexLine();\n",
    "        System.out.println(\"Informe sua idade:\")\n",
    "        idade = sc.nexInt();\n",
    "\n",
    "        sc.nextLine();\n",
    "\n",
    "        System.out.println(\"Informe seu CPF:\")\n",
    "        cpf = sc.nexLine();\n",
    "\n",
    "        System.out.println(\"Nome do usuario: \" + nome + \".\");\n",
    "        System.out.println(\"Idade do usuario: \" + idade + \".\");\n",
    "        System.out.println(\"CPF do usuario: \" + cpf + \".\");\n",
    "    }\n",
    "}\n",
    "\n",
    "~~~\n",
    "\n",
    "\n"
   ]
  }
 ],
 "metadata": {
  "language_info": {
   "name": "python"
  }
 },
 "nbformat": 4,
 "nbformat_minor": 5
}
