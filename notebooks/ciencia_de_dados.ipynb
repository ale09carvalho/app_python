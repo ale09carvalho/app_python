{
 "cells": [
  {
   "cell_type": "markdown",
   "id": "3f73dafd",
   "metadata": {},
   "source": [
    "# **Análise de Dados via Pandas** \n",
    "---\n"
   ]
  },
  {
   "cell_type": "markdown",
   "id": "c2c71131",
   "metadata": {},
   "source": [
    "Uma empresa contratou uma equipe para realizar a analise de uma planilha de cancelamento de de planos da empresa.\n",
    "O objetivo da equipe é analisar a planilha para verificar o porquê dos cancelamentos, o que pode ser feito para diminuir o número de cancelamentos.\n",
    "> 1. A primeira coisa a fazer e ler o arquivo a planilha usando o pandas;\n",
    "\n"
   ]
  },
  {
   "cell_type": "code",
   "execution_count": 4,
   "id": "0167f2b3",
   "metadata": {},
   "outputs": [
    {
     "ename": "ModuleNotFoundError",
     "evalue": "No module named 'pandas'",
     "output_type": "error",
     "traceback": [
      "\u001b[31m---------------------------------------------------------------------------\u001b[39m",
      "\u001b[31mModuleNotFoundError\u001b[39m                       Traceback (most recent call last)",
      "\u001b[36mCell\u001b[39m\u001b[36m \u001b[39m\u001b[32mIn[4]\u001b[39m\u001b[32m, line 1\u001b[39m\n\u001b[32m----> \u001b[39m\u001b[32m1\u001b[39m \u001b[38;5;28;01mimport\u001b[39;00m\u001b[38;5;250m \u001b[39m\u001b[34;01mpandas\u001b[39;00m\u001b[38;5;250m \u001b[39m\u001b[38;5;28;01mas\u001b[39;00m\u001b[38;5;250m \u001b[39m\u001b[34;01mpd\u001b[39;00m\n\u001b[32m      2\u001b[39m \u001b[38;5;66;03m# Carregando o arquivo CSV\u001b[39;00m\n\u001b[32m      3\u001b[39m tabela = pd.read_csv(\u001b[33m\"\u001b[39m\u001b[33mdatasets/cancelamentos.csv\u001b[39m\u001b[33m\"\u001b[39m)\n",
      "\u001b[31mModuleNotFoundError\u001b[39m: No module named 'pandas'"
     ]
    }
   ],
   "source": [
    "import pandas as pd\n",
    "# Carregando o arquivo CSV\n",
    "tabela = pd.read_csv(\"datasets/cancelamentos.csv\")\n",
    "display(tabela)\n"
   ]
  },
  {
   "cell_type": "markdown",
   "id": "ef31f4b6",
   "metadata": {},
   "source": [
    "Instalação deu problema - realizado em outra maquina pasta cienciadados"
   ]
  }
 ],
 "metadata": {
  "kernelspec": {
   "display_name": ".venv",
   "language": "python",
   "name": "python3"
  },
  "language_info": {
   "codemirror_mode": {
    "name": "ipython",
    "version": 3
   },
   "file_extension": ".py",
   "mimetype": "text/x-python",
   "name": "python",
   "nbconvert_exporter": "python",
   "pygments_lexer": "ipython3",
   "version": "3.13.2"
  }
 },
 "nbformat": 4,
 "nbformat_minor": 5
}
