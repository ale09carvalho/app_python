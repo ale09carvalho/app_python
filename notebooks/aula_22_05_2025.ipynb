{
 "cells": [
  {
   "cell_type": "markdown",
   "id": "a1c3b015",
   "metadata": {},
   "source": [
    "# Marksowns da aula do dia 22/05/2025."
   ]
  },
  {
   "cell_type": "markdown",
   "id": "84a1d2fb",
   "metadata": {},
   "source": []
  },
  {
   "cell_type": "markdown",
   "id": "f6a9c59f",
   "metadata": {},
   "source": [
    "## inserindo links em markdowns\n",
    "\n",
    "Esta e a forma como se insere link em markdows.\n",
    "\n",
    "[Clique aqui para ir para pagina do GitHub do professor](https://github.com/ale09carvalho)\n",
    "\n",
    "URL do GitHub do professor: <https://https://github.com/alexmachadoribeiro>"
   ]
  },
  {
   "cell_type": "markdown",
   "id": "6d6df4c0",
   "metadata": {},
   "source": [
    "## Quote\n",
    "\n",
    "> Este é um texto que ficará em destaque no seu \"notebook\". \n",
    "Este recurso e muito interessante para destacar um trecho do seu texto do seu \"notebook\", ou para inserir o conceito de alguma palavra por exemplo.\n",
    "\n",
    "> Este é um paragrafor que inicia um novo quote.\n",
    "\n",
    "> **Digita um texto que ficará em negrito dentro do quote, dando assim maior destaque ao texto.**\n",
    "\n"
   ]
  },
  {
   "cell_type": "markdown",
   "id": "14f3235b",
   "metadata": {},
   "source": [
    "## Criando Tabela\n",
    "\n",
    "Coluna 1 | Coluna 2\n",
    "---------|----------\n",
    "Linha 1  | Correspondência 1\n",
    "Linha 2  | Correspondência 2\n",
    "Linha 3  | Correspondência 3\n"
   ]
  },
  {
   "cell_type": "markdown",
   "id": "a56fe86b",
   "metadata": {},
   "source": [
    "### HTML em Markdowns\n",
    "---\n"
   ]
  },
  {
   "cell_type": "markdown",
   "id": "368142e6",
   "metadata": {},
   "source": [
    "<h5> Este é um título do HTML dentro de um markdown</h5>\n",
    "<marquee> Texto em marquee</marquee>\n",
    "<div style=\"border: 1px solid green; border-radius: 5px; width: 100px heigth: 100px; background-color: rede\"></div>"
   ]
  },
  {
   "cell_type": "markdown",
   "id": "ba8ce8b0",
   "metadata": {},
   "source": [
    "### Meu quote personalizado com HTML."
   ]
  },
  {
   "cell_type": "markdown",
   "id": "1064da9c",
   "metadata": {},
   "source": [
    "<div style=\"border: 2px groove black #16161d; border-radius: 5px; background-color:#0000ff; padding: 20px; box-shadown: 10px 10px 15px black;\">\n",
    "    <p>\n",
    "    Este texto esta dentro de uma div HTML que simula uma quote em um markdown de um notebook. Só para exemplificar algo...\n",
    "    </p>\n",
    "</div>"
   ]
  },
  {
   "cell_type": "markdown",
   "id": "8a661d11",
   "metadata": {},
   "source": [
    "### Criação de Formulário Markdown."
   ]
  },
  {
   "cell_type": "markdown",
   "id": "a75875ab",
   "metadata": {},
   "source": [
    "<input type=\"Checkbox\" /><span>Java</span><br />\n",
    "<input type=\"Checkbox\" /><span>Python</span><br />\n",
    "<input type=\"Checkbox\" /><span>C ++</span><br />\n",
    "<input type=\"Checkbox\" /><span>PHP</span><br />\n",
    "<br />\n",
    "<br />\n",
    "<input type=\"radio\" name=\"opcao\" /><span>Opção 1</span><br />\n",
    "<input type=\"radio\" name=\"opcao\" /><span>Opção 2</span><br />\n",
    "<input type=\"radio\" name=\"opcao\" /><span>Opção 3</span><br />\n",
    "<br />\n",
    "<br />\n",
    "<select id=\"faturamento-mes-referencia\">\n",
    "    <option value=\"1\">Janeiro</option>\n",
    "    <option value=\"2\">Fevereiro</option>\n",
    "    <option value=\"3\">Março</option>\n",
    "    <option value=\"4\">Abril</option>\n",
    "    <option value=\"5\">Maio</option>\n",
    "    <option value=\"6\">Junho</option>\n",
    "    <option value=\"7\">Julho</option>\n",
    "    <option value=\"8\">Agosto</option>\n",
    "    <option value=\"9\">Setembro</option>\n",
    "    <option value=\"10\">Outubro</option>\n",
    "    <option value=\"11\">Novembro</option>\n",
    "    <option value=\"12\">Dezembro</option>\n",
    "</select>\n",
    "<br />\n",
    "<br />"
   ]
  },
  {
   "cell_type": "markdown",
   "id": "38f249c8",
   "metadata": {},
   "source": [
    "### Inserindo imagens em markdown utilizando HTML"
   ]
  },
  {
   "cell_type": "markdown",
   "id": "ec0e93f9",
   "metadata": {},
   "source": [
    "<div>\n",
    "    <img src=\"assets\\mkg.png\" alt=\"mk\" width=200 />\n",
    "</div>\n",
    "\n",
    "<div style=\"display:flex;justify-content: center\">\n",
    "    <h6>\"It has begun\"</h6>\n",
    "</div>"
   ]
  },
  {
   "cell_type": "code",
   "execution_count": null,
   "id": "dd6d4aed",
   "metadata": {},
   "outputs": [
    {
     "name": "stdout",
     "output_type": "stream",
     "text": [
      "celua com código-fonte Python\n"
     ]
    }
   ],
   "source": [
    "print(\"Célula com código-fonte Python\")"
   ]
  },
  {
   "cell_type": "code",
   "execution_count": 1,
   "id": "27735edd",
   "metadata": {},
   "outputs": [
    {
     "name": "stdout",
     "output_type": "stream",
     "text": [
      "O nome do filme é: O Código dá 20;\n"
     ]
    }
   ],
   "source": [
    "# declarando variáveis\n",
    "x = 15\n",
    "y = 5\n",
    "\n",
    "#Saida de dados\n",
    "print(f\"O nome do filme é: O Código dá {x+y};\")\n"
   ]
  },
  {
   "cell_type": "markdown",
   "id": "ce9be3d0",
   "metadata": {},
   "source": [
    "### Fazendo inputs em células de código em notebooks:"
   ]
  },
  {
   "cell_type": "code",
   "execution_count": 4,
   "id": "311f824f",
   "metadata": {},
   "outputs": [
    {
     "name": "stdout",
     "output_type": "stream",
     "text": [
      "Olá Alessandra, tudo bem?\n"
     ]
    }
   ],
   "source": [
    "nome = input(\"Digite seu nome: \")\n",
    "print(f\"Olá {nome}, tudo bem?\")"
   ]
  },
  {
   "cell_type": "code",
   "execution_count": 5,
   "id": "48751273",
   "metadata": {},
   "outputs": [
    {
     "name": "stdout",
     "output_type": "stream",
     "text": [
      "15\n",
      "Alessandra\n"
     ]
    }
   ],
   "source": [
    "print(x)\n",
    "print(nome)"
   ]
  },
  {
   "cell_type": "markdown",
   "id": "46cb0027",
   "metadata": {},
   "source": [
    "###  Jupyter Notebook clássico\n",
    "pip install notebook\n",
    "\n",
    "jupyter notebook\n",
    "\n",
    "https://jupyter.org/install\n",
    "\n",
    "http://localhost:8888/tree/notebooks\n",
    "\n",
    "-------------------------\n",
    "### Laboratório Jupyter\n",
    "\n",
    "pip install jupyterlab\n",
    "\n",
    "jupyter \n",
    "\n",
    "http://localhost:8888/lab"
   ]
  },
  {
   "cell_type": "markdown",
   "id": "26d2e83e",
   "metadata": {},
   "source": [
    "## Apresentaçao do google Colab\n",
    "\n",
    "https://colab.google/\n",
    "\n",
    "O Colab é um serviço hospedado do Jupyter Notebook que não requer configuração para uso e oferece acesso gratuito a recursos de computação, incluindo GPUs e TPUs. O Colab é especialmente adequado para aprendizado de máquina, ciência de dados e educação.\n"
   ]
  }
 ],
 "metadata": {
  "kernelspec": {
   "display_name": ".venv",
   "language": "python",
   "name": "python3"
  },
  "language_info": {
   "codemirror_mode": {
    "name": "ipython",
    "version": 3
   },
   "file_extension": ".py",
   "mimetype": "text/x-python",
   "name": "python",
   "nbconvert_exporter": "python",
   "pygments_lexer": "ipython3",
   "version": "3.13.2"
  }
 },
 "nbformat": 4,
 "nbformat_minor": 5
}
